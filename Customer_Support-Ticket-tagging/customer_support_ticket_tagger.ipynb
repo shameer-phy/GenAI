{
  "metadata": {
    "kernelspec": {
      "display_name": "Python 3",
      "name": "python3"
    },
    "language_info": {
      "name": "python",
      "version": "3.10.12",
      "mimetype": "text/x-python",
      "codemirror_mode": {
        "name": "ipython",
        "version": 3
      },
      "pygments_lexer": "ipython3",
      "nbconvert_exporter": "python",
      "file_extension": ".py"
    },
    "kaggle": {
      "accelerator": "nvidiaTeslaT4",
      "dataSources": [
        {
          "sourceId": 10246360,
          "sourceType": "datasetVersion",
          "datasetId": 6336511
        }
      ],
      "dockerImageVersionId": 30823,
      "isInternetEnabled": true,
      "language": "python",
      "sourceType": "notebook",
      "isGpuEnabled": true
    },
    "colab": {
      "provenance": [],
      "gpuType": "T4",
      "include_colab_link": true
    },
    "accelerator": "GPU",
    "widgets": {
      "application/vnd.jupyter.widget-state+json": {
        "aabb922334054a319c0e5abf035f1b45": {
          "model_module": "@jupyter-widgets/controls",
          "model_name": "HBoxModel",
          "model_module_version": "1.5.0",
          "state": {
            "_dom_classes": [],
            "_model_module": "@jupyter-widgets/controls",
            "_model_module_version": "1.5.0",
            "_model_name": "HBoxModel",
            "_view_count": null,
            "_view_module": "@jupyter-widgets/controls",
            "_view_module_version": "1.5.0",
            "_view_name": "HBoxView",
            "box_style": "",
            "children": [
              "IPY_MODEL_aab2d3fea57d4adfae91292f75d9aa04",
              "IPY_MODEL_66e6d7c62d3d442eb209a83424659297",
              "IPY_MODEL_db2facee76644c26ae8c5767b73f1d63"
            ],
            "layout": "IPY_MODEL_c22afa468a544dc59611d4aa92a0fe86"
          }
        },
        "aab2d3fea57d4adfae91292f75d9aa04": {
          "model_module": "@jupyter-widgets/controls",
          "model_name": "HTMLModel",
          "model_module_version": "1.5.0",
          "state": {
            "_dom_classes": [],
            "_model_module": "@jupyter-widgets/controls",
            "_model_module_version": "1.5.0",
            "_model_name": "HTMLModel",
            "_view_count": null,
            "_view_module": "@jupyter-widgets/controls",
            "_view_module_version": "1.5.0",
            "_view_name": "HTMLView",
            "description": "",
            "description_tooltip": null,
            "layout": "IPY_MODEL_8e4e1cbca0634628baa677b9073a902a",
            "placeholder": "​",
            "style": "IPY_MODEL_9d9ece08ed8a4049a08edeefa6c1a7ff",
            "value": "Map: 100%"
          }
        },
        "66e6d7c62d3d442eb209a83424659297": {
          "model_module": "@jupyter-widgets/controls",
          "model_name": "FloatProgressModel",
          "model_module_version": "1.5.0",
          "state": {
            "_dom_classes": [],
            "_model_module": "@jupyter-widgets/controls",
            "_model_module_version": "1.5.0",
            "_model_name": "FloatProgressModel",
            "_view_count": null,
            "_view_module": "@jupyter-widgets/controls",
            "_view_module_version": "1.5.0",
            "_view_name": "ProgressView",
            "bar_style": "success",
            "description": "",
            "description_tooltip": null,
            "layout": "IPY_MODEL_a36df14be455497eb767d3c030272370",
            "max": 288,
            "min": 0,
            "orientation": "horizontal",
            "style": "IPY_MODEL_c3971e50e0574179bcbba4a3bf9bffa0",
            "value": 288
          }
        },
        "db2facee76644c26ae8c5767b73f1d63": {
          "model_module": "@jupyter-widgets/controls",
          "model_name": "HTMLModel",
          "model_module_version": "1.5.0",
          "state": {
            "_dom_classes": [],
            "_model_module": "@jupyter-widgets/controls",
            "_model_module_version": "1.5.0",
            "_model_name": "HTMLModel",
            "_view_count": null,
            "_view_module": "@jupyter-widgets/controls",
            "_view_module_version": "1.5.0",
            "_view_name": "HTMLView",
            "description": "",
            "description_tooltip": null,
            "layout": "IPY_MODEL_629f0ef44be14cd592dd15ded0e77874",
            "placeholder": "​",
            "style": "IPY_MODEL_71bdb8bc4ed44d1b979fc85b89310d3e",
            "value": " 288/288 [00:00&lt;00:00, 470.57 examples/s]"
          }
        },
        "c22afa468a544dc59611d4aa92a0fe86": {
          "model_module": "@jupyter-widgets/base",
          "model_name": "LayoutModel",
          "model_module_version": "1.2.0",
          "state": {
            "_model_module": "@jupyter-widgets/base",
            "_model_module_version": "1.2.0",
            "_model_name": "LayoutModel",
            "_view_count": null,
            "_view_module": "@jupyter-widgets/base",
            "_view_module_version": "1.2.0",
            "_view_name": "LayoutView",
            "align_content": null,
            "align_items": null,
            "align_self": null,
            "border": null,
            "bottom": null,
            "display": null,
            "flex": null,
            "flex_flow": null,
            "grid_area": null,
            "grid_auto_columns": null,
            "grid_auto_flow": null,
            "grid_auto_rows": null,
            "grid_column": null,
            "grid_gap": null,
            "grid_row": null,
            "grid_template_areas": null,
            "grid_template_columns": null,
            "grid_template_rows": null,
            "height": null,
            "justify_content": null,
            "justify_items": null,
            "left": null,
            "margin": null,
            "max_height": null,
            "max_width": null,
            "min_height": null,
            "min_width": null,
            "object_fit": null,
            "object_position": null,
            "order": null,
            "overflow": null,
            "overflow_x": null,
            "overflow_y": null,
            "padding": null,
            "right": null,
            "top": null,
            "visibility": null,
            "width": null
          }
        },
        "8e4e1cbca0634628baa677b9073a902a": {
          "model_module": "@jupyter-widgets/base",
          "model_name": "LayoutModel",
          "model_module_version": "1.2.0",
          "state": {
            "_model_module": "@jupyter-widgets/base",
            "_model_module_version": "1.2.0",
            "_model_name": "LayoutModel",
            "_view_count": null,
            "_view_module": "@jupyter-widgets/base",
            "_view_module_version": "1.2.0",
            "_view_name": "LayoutView",
            "align_content": null,
            "align_items": null,
            "align_self": null,
            "border": null,
            "bottom": null,
            "display": null,
            "flex": null,
            "flex_flow": null,
            "grid_area": null,
            "grid_auto_columns": null,
            "grid_auto_flow": null,
            "grid_auto_rows": null,
            "grid_column": null,
            "grid_gap": null,
            "grid_row": null,
            "grid_template_areas": null,
            "grid_template_columns": null,
            "grid_template_rows": null,
            "height": null,
            "justify_content": null,
            "justify_items": null,
            "left": null,
            "margin": null,
            "max_height": null,
            "max_width": null,
            "min_height": null,
            "min_width": null,
            "object_fit": null,
            "object_position": null,
            "order": null,
            "overflow": null,
            "overflow_x": null,
            "overflow_y": null,
            "padding": null,
            "right": null,
            "top": null,
            "visibility": null,
            "width": null
          }
        },
        "9d9ece08ed8a4049a08edeefa6c1a7ff": {
          "model_module": "@jupyter-widgets/controls",
          "model_name": "DescriptionStyleModel",
          "model_module_version": "1.5.0",
          "state": {
            "_model_module": "@jupyter-widgets/controls",
            "_model_module_version": "1.5.0",
            "_model_name": "DescriptionStyleModel",
            "_view_count": null,
            "_view_module": "@jupyter-widgets/base",
            "_view_module_version": "1.2.0",
            "_view_name": "StyleView",
            "description_width": ""
          }
        },
        "a36df14be455497eb767d3c030272370": {
          "model_module": "@jupyter-widgets/base",
          "model_name": "LayoutModel",
          "model_module_version": "1.2.0",
          "state": {
            "_model_module": "@jupyter-widgets/base",
            "_model_module_version": "1.2.0",
            "_model_name": "LayoutModel",
            "_view_count": null,
            "_view_module": "@jupyter-widgets/base",
            "_view_module_version": "1.2.0",
            "_view_name": "LayoutView",
            "align_content": null,
            "align_items": null,
            "align_self": null,
            "border": null,
            "bottom": null,
            "display": null,
            "flex": null,
            "flex_flow": null,
            "grid_area": null,
            "grid_auto_columns": null,
            "grid_auto_flow": null,
            "grid_auto_rows": null,
            "grid_column": null,
            "grid_gap": null,
            "grid_row": null,
            "grid_template_areas": null,
            "grid_template_columns": null,
            "grid_template_rows": null,
            "height": null,
            "justify_content": null,
            "justify_items": null,
            "left": null,
            "margin": null,
            "max_height": null,
            "max_width": null,
            "min_height": null,
            "min_width": null,
            "object_fit": null,
            "object_position": null,
            "order": null,
            "overflow": null,
            "overflow_x": null,
            "overflow_y": null,
            "padding": null,
            "right": null,
            "top": null,
            "visibility": null,
            "width": null
          }
        },
        "c3971e50e0574179bcbba4a3bf9bffa0": {
          "model_module": "@jupyter-widgets/controls",
          "model_name": "ProgressStyleModel",
          "model_module_version": "1.5.0",
          "state": {
            "_model_module": "@jupyter-widgets/controls",
            "_model_module_version": "1.5.0",
            "_model_name": "ProgressStyleModel",
            "_view_count": null,
            "_view_module": "@jupyter-widgets/base",
            "_view_module_version": "1.2.0",
            "_view_name": "StyleView",
            "bar_color": null,
            "description_width": ""
          }
        },
        "629f0ef44be14cd592dd15ded0e77874": {
          "model_module": "@jupyter-widgets/base",
          "model_name": "LayoutModel",
          "model_module_version": "1.2.0",
          "state": {
            "_model_module": "@jupyter-widgets/base",
            "_model_module_version": "1.2.0",
            "_model_name": "LayoutModel",
            "_view_count": null,
            "_view_module": "@jupyter-widgets/base",
            "_view_module_version": "1.2.0",
            "_view_name": "LayoutView",
            "align_content": null,
            "align_items": null,
            "align_self": null,
            "border": null,
            "bottom": null,
            "display": null,
            "flex": null,
            "flex_flow": null,
            "grid_area": null,
            "grid_auto_columns": null,
            "grid_auto_flow": null,
            "grid_auto_rows": null,
            "grid_column": null,
            "grid_gap": null,
            "grid_row": null,
            "grid_template_areas": null,
            "grid_template_columns": null,
            "grid_template_rows": null,
            "height": null,
            "justify_content": null,
            "justify_items": null,
            "left": null,
            "margin": null,
            "max_height": null,
            "max_width": null,
            "min_height": null,
            "min_width": null,
            "object_fit": null,
            "object_position": null,
            "order": null,
            "overflow": null,
            "overflow_x": null,
            "overflow_y": null,
            "padding": null,
            "right": null,
            "top": null,
            "visibility": null,
            "width": null
          }
        },
        "71bdb8bc4ed44d1b979fc85b89310d3e": {
          "model_module": "@jupyter-widgets/controls",
          "model_name": "DescriptionStyleModel",
          "model_module_version": "1.5.0",
          "state": {
            "_model_module": "@jupyter-widgets/controls",
            "_model_module_version": "1.5.0",
            "_model_name": "DescriptionStyleModel",
            "_view_count": null,
            "_view_module": "@jupyter-widgets/base",
            "_view_module_version": "1.2.0",
            "_view_name": "StyleView",
            "description_width": ""
          }
        },
        "d4f37b414df44c149424fde83212c789": {
          "model_module": "@jupyter-widgets/controls",
          "model_name": "HBoxModel",
          "model_module_version": "1.5.0",
          "state": {
            "_dom_classes": [],
            "_model_module": "@jupyter-widgets/controls",
            "_model_module_version": "1.5.0",
            "_model_name": "HBoxModel",
            "_view_count": null,
            "_view_module": "@jupyter-widgets/controls",
            "_view_module_version": "1.5.0",
            "_view_name": "HBoxView",
            "box_style": "",
            "children": [
              "IPY_MODEL_21769af18c7846afb61cc14582355965",
              "IPY_MODEL_aff82ee6761643d3979ea0d788f6613d",
              "IPY_MODEL_48590c34056c433fb5368b0c59e6879c"
            ],
            "layout": "IPY_MODEL_2b04df6cf47640fa984bc98dbdf78330"
          }
        },
        "21769af18c7846afb61cc14582355965": {
          "model_module": "@jupyter-widgets/controls",
          "model_name": "HTMLModel",
          "model_module_version": "1.5.0",
          "state": {
            "_dom_classes": [],
            "_model_module": "@jupyter-widgets/controls",
            "_model_module_version": "1.5.0",
            "_model_name": "HTMLModel",
            "_view_count": null,
            "_view_module": "@jupyter-widgets/controls",
            "_view_module_version": "1.5.0",
            "_view_name": "HTMLView",
            "description": "",
            "description_tooltip": null,
            "layout": "IPY_MODEL_1eef21b71e26477ab10c247551edbde5",
            "placeholder": "​",
            "style": "IPY_MODEL_5ef7f3926bc74886a3f117aee34a7a8d",
            "value": "Map: 100%"
          }
        },
        "aff82ee6761643d3979ea0d788f6613d": {
          "model_module": "@jupyter-widgets/controls",
          "model_name": "FloatProgressModel",
          "model_module_version": "1.5.0",
          "state": {
            "_dom_classes": [],
            "_model_module": "@jupyter-widgets/controls",
            "_model_module_version": "1.5.0",
            "_model_name": "FloatProgressModel",
            "_view_count": null,
            "_view_module": "@jupyter-widgets/controls",
            "_view_module_version": "1.5.0",
            "_view_name": "ProgressView",
            "bar_style": "success",
            "description": "",
            "description_tooltip": null,
            "layout": "IPY_MODEL_45c0d6852a244c87af789a6934cc2ab1",
            "max": 50,
            "min": 0,
            "orientation": "horizontal",
            "style": "IPY_MODEL_f8b853c1f3c842698f6fcd00f3358035",
            "value": 50
          }
        },
        "48590c34056c433fb5368b0c59e6879c": {
          "model_module": "@jupyter-widgets/controls",
          "model_name": "HTMLModel",
          "model_module_version": "1.5.0",
          "state": {
            "_dom_classes": [],
            "_model_module": "@jupyter-widgets/controls",
            "_model_module_version": "1.5.0",
            "_model_name": "HTMLModel",
            "_view_count": null,
            "_view_module": "@jupyter-widgets/controls",
            "_view_module_version": "1.5.0",
            "_view_name": "HTMLView",
            "description": "",
            "description_tooltip": null,
            "layout": "IPY_MODEL_653c1963fd4c4831862a66544cc2bd84",
            "placeholder": "​",
            "style": "IPY_MODEL_6c5bd42fbafd489d81f61820fb0da37f",
            "value": " 50/50 [00:00&lt;00:00, 237.06 examples/s]"
          }
        },
        "2b04df6cf47640fa984bc98dbdf78330": {
          "model_module": "@jupyter-widgets/base",
          "model_name": "LayoutModel",
          "model_module_version": "1.2.0",
          "state": {
            "_model_module": "@jupyter-widgets/base",
            "_model_module_version": "1.2.0",
            "_model_name": "LayoutModel",
            "_view_count": null,
            "_view_module": "@jupyter-widgets/base",
            "_view_module_version": "1.2.0",
            "_view_name": "LayoutView",
            "align_content": null,
            "align_items": null,
            "align_self": null,
            "border": null,
            "bottom": null,
            "display": null,
            "flex": null,
            "flex_flow": null,
            "grid_area": null,
            "grid_auto_columns": null,
            "grid_auto_flow": null,
            "grid_auto_rows": null,
            "grid_column": null,
            "grid_gap": null,
            "grid_row": null,
            "grid_template_areas": null,
            "grid_template_columns": null,
            "grid_template_rows": null,
            "height": null,
            "justify_content": null,
            "justify_items": null,
            "left": null,
            "margin": null,
            "max_height": null,
            "max_width": null,
            "min_height": null,
            "min_width": null,
            "object_fit": null,
            "object_position": null,
            "order": null,
            "overflow": null,
            "overflow_x": null,
            "overflow_y": null,
            "padding": null,
            "right": null,
            "top": null,
            "visibility": null,
            "width": null
          }
        },
        "1eef21b71e26477ab10c247551edbde5": {
          "model_module": "@jupyter-widgets/base",
          "model_name": "LayoutModel",
          "model_module_version": "1.2.0",
          "state": {
            "_model_module": "@jupyter-widgets/base",
            "_model_module_version": "1.2.0",
            "_model_name": "LayoutModel",
            "_view_count": null,
            "_view_module": "@jupyter-widgets/base",
            "_view_module_version": "1.2.0",
            "_view_name": "LayoutView",
            "align_content": null,
            "align_items": null,
            "align_self": null,
            "border": null,
            "bottom": null,
            "display": null,
            "flex": null,
            "flex_flow": null,
            "grid_area": null,
            "grid_auto_columns": null,
            "grid_auto_flow": null,
            "grid_auto_rows": null,
            "grid_column": null,
            "grid_gap": null,
            "grid_row": null,
            "grid_template_areas": null,
            "grid_template_columns": null,
            "grid_template_rows": null,
            "height": null,
            "justify_content": null,
            "justify_items": null,
            "left": null,
            "margin": null,
            "max_height": null,
            "max_width": null,
            "min_height": null,
            "min_width": null,
            "object_fit": null,
            "object_position": null,
            "order": null,
            "overflow": null,
            "overflow_x": null,
            "overflow_y": null,
            "padding": null,
            "right": null,
            "top": null,
            "visibility": null,
            "width": null
          }
        },
        "5ef7f3926bc74886a3f117aee34a7a8d": {
          "model_module": "@jupyter-widgets/controls",
          "model_name": "DescriptionStyleModel",
          "model_module_version": "1.5.0",
          "state": {
            "_model_module": "@jupyter-widgets/controls",
            "_model_module_version": "1.5.0",
            "_model_name": "DescriptionStyleModel",
            "_view_count": null,
            "_view_module": "@jupyter-widgets/base",
            "_view_module_version": "1.2.0",
            "_view_name": "StyleView",
            "description_width": ""
          }
        },
        "45c0d6852a244c87af789a6934cc2ab1": {
          "model_module": "@jupyter-widgets/base",
          "model_name": "LayoutModel",
          "model_module_version": "1.2.0",
          "state": {
            "_model_module": "@jupyter-widgets/base",
            "_model_module_version": "1.2.0",
            "_model_name": "LayoutModel",
            "_view_count": null,
            "_view_module": "@jupyter-widgets/base",
            "_view_module_version": "1.2.0",
            "_view_name": "LayoutView",
            "align_content": null,
            "align_items": null,
            "align_self": null,
            "border": null,
            "bottom": null,
            "display": null,
            "flex": null,
            "flex_flow": null,
            "grid_area": null,
            "grid_auto_columns": null,
            "grid_auto_flow": null,
            "grid_auto_rows": null,
            "grid_column": null,
            "grid_gap": null,
            "grid_row": null,
            "grid_template_areas": null,
            "grid_template_columns": null,
            "grid_template_rows": null,
            "height": null,
            "justify_content": null,
            "justify_items": null,
            "left": null,
            "margin": null,
            "max_height": null,
            "max_width": null,
            "min_height": null,
            "min_width": null,
            "object_fit": null,
            "object_position": null,
            "order": null,
            "overflow": null,
            "overflow_x": null,
            "overflow_y": null,
            "padding": null,
            "right": null,
            "top": null,
            "visibility": null,
            "width": null
          }
        },
        "f8b853c1f3c842698f6fcd00f3358035": {
          "model_module": "@jupyter-widgets/controls",
          "model_name": "ProgressStyleModel",
          "model_module_version": "1.5.0",
          "state": {
            "_model_module": "@jupyter-widgets/controls",
            "_model_module_version": "1.5.0",
            "_model_name": "ProgressStyleModel",
            "_view_count": null,
            "_view_module": "@jupyter-widgets/base",
            "_view_module_version": "1.2.0",
            "_view_name": "StyleView",
            "bar_color": null,
            "description_width": ""
          }
        },
        "653c1963fd4c4831862a66544cc2bd84": {
          "model_module": "@jupyter-widgets/base",
          "model_name": "LayoutModel",
          "model_module_version": "1.2.0",
          "state": {
            "_model_module": "@jupyter-widgets/base",
            "_model_module_version": "1.2.0",
            "_model_name": "LayoutModel",
            "_view_count": null,
            "_view_module": "@jupyter-widgets/base",
            "_view_module_version": "1.2.0",
            "_view_name": "LayoutView",
            "align_content": null,
            "align_items": null,
            "align_self": null,
            "border": null,
            "bottom": null,
            "display": null,
            "flex": null,
            "flex_flow": null,
            "grid_area": null,
            "grid_auto_columns": null,
            "grid_auto_flow": null,
            "grid_auto_rows": null,
            "grid_column": null,
            "grid_gap": null,
            "grid_row": null,
            "grid_template_areas": null,
            "grid_template_columns": null,
            "grid_template_rows": null,
            "height": null,
            "justify_content": null,
            "justify_items": null,
            "left": null,
            "margin": null,
            "max_height": null,
            "max_width": null,
            "min_height": null,
            "min_width": null,
            "object_fit": null,
            "object_position": null,
            "order": null,
            "overflow": null,
            "overflow_x": null,
            "overflow_y": null,
            "padding": null,
            "right": null,
            "top": null,
            "visibility": null,
            "width": null
          }
        },
        "6c5bd42fbafd489d81f61820fb0da37f": {
          "model_module": "@jupyter-widgets/controls",
          "model_name": "DescriptionStyleModel",
          "model_module_version": "1.5.0",
          "state": {
            "_model_module": "@jupyter-widgets/controls",
            "_model_module_version": "1.5.0",
            "_model_name": "DescriptionStyleModel",
            "_view_count": null,
            "_view_module": "@jupyter-widgets/base",
            "_view_module_version": "1.2.0",
            "_view_name": "StyleView",
            "description_width": ""
          }
        }
      }
    }
  },
  "nbformat_minor": 0,
  "nbformat": 4,
  "cells": [
    {
      "cell_type": "markdown",
      "metadata": {
        "id": "view-in-github",
        "colab_type": "text"
      },
      "source": [
        "<a href=\"https://colab.research.google.com/github/shameer-phy/GenAI/blob/main/Customer_Support-Ticket-tagging/customer_support_ticket_tagger.ipynb\" target=\"_parent\"><img src=\"https://colab.research.google.com/assets/colab-badge.svg\" alt=\"Open In Colab\"/></a>"
      ]
    },
    {
      "cell_type": "code",
      "source": [
        "!pip install transformers datasets torch scikit-learn"
      ],
      "metadata": {
        "trusted": true,
        "execution": {
          "iopub.status.busy": "2024-12-22T04:44:47.651695Z",
          "iopub.execute_input": "2024-12-22T04:44:47.652015Z",
          "iopub.status.idle": "2024-12-22T04:44:47.655794Z",
          "shell.execute_reply.started": "2024-12-22T04:44:47.651983Z",
          "shell.execute_reply": "2024-12-22T04:44:47.654808Z"
        },
        "colab": {
          "base_uri": "https://localhost:8080/"
        },
        "id": "-AV26uV-W4vm",
        "outputId": "8c07aa66-823a-4db0-912d-c69aa622a28f"
      },
      "outputs": [
        {
          "output_type": "stream",
          "name": "stdout",
          "text": [
            "Requirement already satisfied: transformers in /usr/local/lib/python3.10/dist-packages (4.47.1)\n",
            "Requirement already satisfied: datasets in /usr/local/lib/python3.10/dist-packages (3.2.0)\n",
            "Requirement already satisfied: torch in /usr/local/lib/python3.10/dist-packages (2.5.1+cu121)\n",
            "Requirement already satisfied: scikit-learn in /usr/local/lib/python3.10/dist-packages (1.6.0)\n",
            "Requirement already satisfied: filelock in /usr/local/lib/python3.10/dist-packages (from transformers) (3.16.1)\n",
            "Requirement already satisfied: huggingface-hub<1.0,>=0.24.0 in /usr/local/lib/python3.10/dist-packages (from transformers) (0.27.0)\n",
            "Requirement already satisfied: numpy>=1.17 in /usr/local/lib/python3.10/dist-packages (from transformers) (1.26.4)\n",
            "Requirement already satisfied: packaging>=20.0 in /usr/local/lib/python3.10/dist-packages (from transformers) (24.2)\n",
            "Requirement already satisfied: pyyaml>=5.1 in /usr/local/lib/python3.10/dist-packages (from transformers) (6.0.2)\n",
            "Requirement already satisfied: regex!=2019.12.17 in /usr/local/lib/python3.10/dist-packages (from transformers) (2024.11.6)\n",
            "Requirement already satisfied: requests in /usr/local/lib/python3.10/dist-packages (from transformers) (2.32.3)\n",
            "Requirement already satisfied: tokenizers<0.22,>=0.21 in /usr/local/lib/python3.10/dist-packages (from transformers) (0.21.0)\n",
            "Requirement already satisfied: safetensors>=0.4.1 in /usr/local/lib/python3.10/dist-packages (from transformers) (0.4.5)\n",
            "Requirement already satisfied: tqdm>=4.27 in /usr/local/lib/python3.10/dist-packages (from transformers) (4.67.1)\n",
            "Requirement already satisfied: pyarrow>=15.0.0 in /usr/local/lib/python3.10/dist-packages (from datasets) (17.0.0)\n",
            "Requirement already satisfied: dill<0.3.9,>=0.3.0 in /usr/local/lib/python3.10/dist-packages (from datasets) (0.3.8)\n",
            "Requirement already satisfied: pandas in /usr/local/lib/python3.10/dist-packages (from datasets) (2.2.2)\n",
            "Requirement already satisfied: xxhash in /usr/local/lib/python3.10/dist-packages (from datasets) (3.5.0)\n",
            "Requirement already satisfied: multiprocess<0.70.17 in /usr/local/lib/python3.10/dist-packages (from datasets) (0.70.16)\n",
            "Requirement already satisfied: fsspec<=2024.9.0,>=2023.1.0 in /usr/local/lib/python3.10/dist-packages (from fsspec[http]<=2024.9.0,>=2023.1.0->datasets) (2024.9.0)\n",
            "Requirement already satisfied: aiohttp in /usr/local/lib/python3.10/dist-packages (from datasets) (3.11.10)\n",
            "Requirement already satisfied: typing-extensions>=4.8.0 in /usr/local/lib/python3.10/dist-packages (from torch) (4.12.2)\n",
            "Requirement already satisfied: networkx in /usr/local/lib/python3.10/dist-packages (from torch) (3.4.2)\n",
            "Requirement already satisfied: jinja2 in /usr/local/lib/python3.10/dist-packages (from torch) (3.1.4)\n",
            "Requirement already satisfied: sympy==1.13.1 in /usr/local/lib/python3.10/dist-packages (from torch) (1.13.1)\n",
            "Requirement already satisfied: mpmath<1.4,>=1.1.0 in /usr/local/lib/python3.10/dist-packages (from sympy==1.13.1->torch) (1.3.0)\n",
            "Requirement already satisfied: scipy>=1.6.0 in /usr/local/lib/python3.10/dist-packages (from scikit-learn) (1.13.1)\n",
            "Requirement already satisfied: joblib>=1.2.0 in /usr/local/lib/python3.10/dist-packages (from scikit-learn) (1.4.2)\n",
            "Requirement already satisfied: threadpoolctl>=3.1.0 in /usr/local/lib/python3.10/dist-packages (from scikit-learn) (3.5.0)\n",
            "Requirement already satisfied: aiohappyeyeballs>=2.3.0 in /usr/local/lib/python3.10/dist-packages (from aiohttp->datasets) (2.4.4)\n",
            "Requirement already satisfied: aiosignal>=1.1.2 in /usr/local/lib/python3.10/dist-packages (from aiohttp->datasets) (1.3.2)\n",
            "Requirement already satisfied: async-timeout<6.0,>=4.0 in /usr/local/lib/python3.10/dist-packages (from aiohttp->datasets) (4.0.3)\n",
            "Requirement already satisfied: attrs>=17.3.0 in /usr/local/lib/python3.10/dist-packages (from aiohttp->datasets) (24.3.0)\n",
            "Requirement already satisfied: frozenlist>=1.1.1 in /usr/local/lib/python3.10/dist-packages (from aiohttp->datasets) (1.5.0)\n",
            "Requirement already satisfied: multidict<7.0,>=4.5 in /usr/local/lib/python3.10/dist-packages (from aiohttp->datasets) (6.1.0)\n",
            "Requirement already satisfied: propcache>=0.2.0 in /usr/local/lib/python3.10/dist-packages (from aiohttp->datasets) (0.2.1)\n",
            "Requirement already satisfied: yarl<2.0,>=1.17.0 in /usr/local/lib/python3.10/dist-packages (from aiohttp->datasets) (1.18.3)\n",
            "Requirement already satisfied: charset-normalizer<4,>=2 in /usr/local/lib/python3.10/dist-packages (from requests->transformers) (3.4.0)\n",
            "Requirement already satisfied: idna<4,>=2.5 in /usr/local/lib/python3.10/dist-packages (from requests->transformers) (3.10)\n",
            "Requirement already satisfied: urllib3<3,>=1.21.1 in /usr/local/lib/python3.10/dist-packages (from requests->transformers) (2.2.3)\n",
            "Requirement already satisfied: certifi>=2017.4.17 in /usr/local/lib/python3.10/dist-packages (from requests->transformers) (2024.12.14)\n",
            "Requirement already satisfied: MarkupSafe>=2.0 in /usr/local/lib/python3.10/dist-packages (from jinja2->torch) (3.0.2)\n",
            "Requirement already satisfied: python-dateutil>=2.8.2 in /usr/local/lib/python3.10/dist-packages (from pandas->datasets) (2.8.2)\n",
            "Requirement already satisfied: pytz>=2020.1 in /usr/local/lib/python3.10/dist-packages (from pandas->datasets) (2024.2)\n",
            "Requirement already satisfied: tzdata>=2022.7 in /usr/local/lib/python3.10/dist-packages (from pandas->datasets) (2024.2)\n",
            "Requirement already satisfied: six>=1.5 in /usr/local/lib/python3.10/dist-packages (from python-dateutil>=2.8.2->pandas->datasets) (1.17.0)\n"
          ]
        }
      ],
      "execution_count": 1
    },
    {
      "cell_type": "markdown",
      "source": [
        "## Importing necessary libraries"
      ],
      "metadata": {
        "id": "l1ASK-HlW4vp"
      }
    },
    {
      "cell_type": "code",
      "source": [
        "import numpy as np\n",
        "import pandas as pd\n",
        "from sklearn.preprocessing import LabelEncoder\n",
        "from datasets import Dataset"
      ],
      "metadata": {
        "_uuid": "8f2839f25d086af736a60e9eeb907d3b93b6e0e5",
        "_cell_guid": "b1076dfc-b9ad-4769-8c92-a6c4dae69d19",
        "trusted": true,
        "execution": {
          "iopub.status.busy": "2024-12-22T04:44:47.657030Z",
          "iopub.execute_input": "2024-12-22T04:44:47.657285Z",
          "iopub.status.idle": "2024-12-22T04:44:49.525071Z",
          "shell.execute_reply.started": "2024-12-22T04:44:47.657258Z",
          "shell.execute_reply": "2024-12-22T04:44:49.524380Z"
        },
        "id": "6BDM1vCbW4vs"
      },
      "outputs": [],
      "execution_count": 2
    },
    {
      "cell_type": "code",
      "source": [
        "df = pd.read_csv(\"https://raw.githubusercontent.com/shameer-phy/GenAI/refs/heads/main/Customer_Support-Ticket-tagging/customer_tickets.csv\")\n",
        "df.columns = [\"text\",\"labels\"]\n",
        "df.head()"
      ],
      "metadata": {
        "trusted": true,
        "execution": {
          "iopub.status.busy": "2024-12-22T04:44:49.526942Z",
          "iopub.execute_input": "2024-12-22T04:44:49.527347Z",
          "iopub.status.idle": "2024-12-22T04:44:49.564090Z",
          "shell.execute_reply.started": "2024-12-22T04:44:49.527325Z",
          "shell.execute_reply": "2024-12-22T04:44:49.563359Z"
        },
        "colab": {
          "base_uri": "https://localhost:8080/",
          "height": 206
        },
        "id": "3VLGkCwVW4vu",
        "outputId": "61f23237-87a9-45f9-bf5b-25a2fef3ecff"
      },
      "outputs": [
        {
          "output_type": "execute_result",
          "data": {
            "text/plain": [
              "                                                text                 labels\n",
              "0  Dear Customer Support Team, We are experiencin...      Technical Support\n",
              "1  Dear Customer Support,<br><br>I hope this mess...        Product Support\n",
              "2  Dear Tech Online Store Customer Support,\\n\\nI ...  Returns and Exchanges\n",
              "3  Dear IT Services Customer Support, \\n\\nWe are ...        Product Support\n",
              "4  Greetings IT Services Customer Support,\\n\\nI a...      Technical Support"
            ],
            "text/html": [
              "\n",
              "  <div id=\"df-3f2580ce-c1c1-4c1c-8fa1-99e1d5adc35e\" class=\"colab-df-container\">\n",
              "    <div>\n",
              "<style scoped>\n",
              "    .dataframe tbody tr th:only-of-type {\n",
              "        vertical-align: middle;\n",
              "    }\n",
              "\n",
              "    .dataframe tbody tr th {\n",
              "        vertical-align: top;\n",
              "    }\n",
              "\n",
              "    .dataframe thead th {\n",
              "        text-align: right;\n",
              "    }\n",
              "</style>\n",
              "<table border=\"1\" class=\"dataframe\">\n",
              "  <thead>\n",
              "    <tr style=\"text-align: right;\">\n",
              "      <th></th>\n",
              "      <th>text</th>\n",
              "      <th>labels</th>\n",
              "    </tr>\n",
              "  </thead>\n",
              "  <tbody>\n",
              "    <tr>\n",
              "      <th>0</th>\n",
              "      <td>Dear Customer Support Team, We are experiencin...</td>\n",
              "      <td>Technical Support</td>\n",
              "    </tr>\n",
              "    <tr>\n",
              "      <th>1</th>\n",
              "      <td>Dear Customer Support,&lt;br&gt;&lt;br&gt;I hope this mess...</td>\n",
              "      <td>Product Support</td>\n",
              "    </tr>\n",
              "    <tr>\n",
              "      <th>2</th>\n",
              "      <td>Dear Tech Online Store Customer Support,\\n\\nI ...</td>\n",
              "      <td>Returns and Exchanges</td>\n",
              "    </tr>\n",
              "    <tr>\n",
              "      <th>3</th>\n",
              "      <td>Dear IT Services Customer Support, \\n\\nWe are ...</td>\n",
              "      <td>Product Support</td>\n",
              "    </tr>\n",
              "    <tr>\n",
              "      <th>4</th>\n",
              "      <td>Greetings IT Services Customer Support,\\n\\nI a...</td>\n",
              "      <td>Technical Support</td>\n",
              "    </tr>\n",
              "  </tbody>\n",
              "</table>\n",
              "</div>\n",
              "    <div class=\"colab-df-buttons\">\n",
              "\n",
              "  <div class=\"colab-df-container\">\n",
              "    <button class=\"colab-df-convert\" onclick=\"convertToInteractive('df-3f2580ce-c1c1-4c1c-8fa1-99e1d5adc35e')\"\n",
              "            title=\"Convert this dataframe to an interactive table.\"\n",
              "            style=\"display:none;\">\n",
              "\n",
              "  <svg xmlns=\"http://www.w3.org/2000/svg\" height=\"24px\" viewBox=\"0 -960 960 960\">\n",
              "    <path d=\"M120-120v-720h720v720H120Zm60-500h600v-160H180v160Zm220 220h160v-160H400v160Zm0 220h160v-160H400v160ZM180-400h160v-160H180v160Zm440 0h160v-160H620v160ZM180-180h160v-160H180v160Zm440 0h160v-160H620v160Z\"/>\n",
              "  </svg>\n",
              "    </button>\n",
              "\n",
              "  <style>\n",
              "    .colab-df-container {\n",
              "      display:flex;\n",
              "      gap: 12px;\n",
              "    }\n",
              "\n",
              "    .colab-df-convert {\n",
              "      background-color: #E8F0FE;\n",
              "      border: none;\n",
              "      border-radius: 50%;\n",
              "      cursor: pointer;\n",
              "      display: none;\n",
              "      fill: #1967D2;\n",
              "      height: 32px;\n",
              "      padding: 0 0 0 0;\n",
              "      width: 32px;\n",
              "    }\n",
              "\n",
              "    .colab-df-convert:hover {\n",
              "      background-color: #E2EBFA;\n",
              "      box-shadow: 0px 1px 2px rgba(60, 64, 67, 0.3), 0px 1px 3px 1px rgba(60, 64, 67, 0.15);\n",
              "      fill: #174EA6;\n",
              "    }\n",
              "\n",
              "    .colab-df-buttons div {\n",
              "      margin-bottom: 4px;\n",
              "    }\n",
              "\n",
              "    [theme=dark] .colab-df-convert {\n",
              "      background-color: #3B4455;\n",
              "      fill: #D2E3FC;\n",
              "    }\n",
              "\n",
              "    [theme=dark] .colab-df-convert:hover {\n",
              "      background-color: #434B5C;\n",
              "      box-shadow: 0px 1px 3px 1px rgba(0, 0, 0, 0.15);\n",
              "      filter: drop-shadow(0px 1px 2px rgba(0, 0, 0, 0.3));\n",
              "      fill: #FFFFFF;\n",
              "    }\n",
              "  </style>\n",
              "\n",
              "    <script>\n",
              "      const buttonEl =\n",
              "        document.querySelector('#df-3f2580ce-c1c1-4c1c-8fa1-99e1d5adc35e button.colab-df-convert');\n",
              "      buttonEl.style.display =\n",
              "        google.colab.kernel.accessAllowed ? 'block' : 'none';\n",
              "\n",
              "      async function convertToInteractive(key) {\n",
              "        const element = document.querySelector('#df-3f2580ce-c1c1-4c1c-8fa1-99e1d5adc35e');\n",
              "        const dataTable =\n",
              "          await google.colab.kernel.invokeFunction('convertToInteractive',\n",
              "                                                    [key], {});\n",
              "        if (!dataTable) return;\n",
              "\n",
              "        const docLinkHtml = 'Like what you see? Visit the ' +\n",
              "          '<a target=\"_blank\" href=https://colab.research.google.com/notebooks/data_table.ipynb>data table notebook</a>'\n",
              "          + ' to learn more about interactive tables.';\n",
              "        element.innerHTML = '';\n",
              "        dataTable['output_type'] = 'display_data';\n",
              "        await google.colab.output.renderOutput(dataTable, element);\n",
              "        const docLink = document.createElement('div');\n",
              "        docLink.innerHTML = docLinkHtml;\n",
              "        element.appendChild(docLink);\n",
              "      }\n",
              "    </script>\n",
              "  </div>\n",
              "\n",
              "\n",
              "<div id=\"df-ddd4198a-a0f5-450c-b2db-457babc142de\">\n",
              "  <button class=\"colab-df-quickchart\" onclick=\"quickchart('df-ddd4198a-a0f5-450c-b2db-457babc142de')\"\n",
              "            title=\"Suggest charts\"\n",
              "            style=\"display:none;\">\n",
              "\n",
              "<svg xmlns=\"http://www.w3.org/2000/svg\" height=\"24px\"viewBox=\"0 0 24 24\"\n",
              "     width=\"24px\">\n",
              "    <g>\n",
              "        <path d=\"M19 3H5c-1.1 0-2 .9-2 2v14c0 1.1.9 2 2 2h14c1.1 0 2-.9 2-2V5c0-1.1-.9-2-2-2zM9 17H7v-7h2v7zm4 0h-2V7h2v10zm4 0h-2v-4h2v4z\"/>\n",
              "    </g>\n",
              "</svg>\n",
              "  </button>\n",
              "\n",
              "<style>\n",
              "  .colab-df-quickchart {\n",
              "      --bg-color: #E8F0FE;\n",
              "      --fill-color: #1967D2;\n",
              "      --hover-bg-color: #E2EBFA;\n",
              "      --hover-fill-color: #174EA6;\n",
              "      --disabled-fill-color: #AAA;\n",
              "      --disabled-bg-color: #DDD;\n",
              "  }\n",
              "\n",
              "  [theme=dark] .colab-df-quickchart {\n",
              "      --bg-color: #3B4455;\n",
              "      --fill-color: #D2E3FC;\n",
              "      --hover-bg-color: #434B5C;\n",
              "      --hover-fill-color: #FFFFFF;\n",
              "      --disabled-bg-color: #3B4455;\n",
              "      --disabled-fill-color: #666;\n",
              "  }\n",
              "\n",
              "  .colab-df-quickchart {\n",
              "    background-color: var(--bg-color);\n",
              "    border: none;\n",
              "    border-radius: 50%;\n",
              "    cursor: pointer;\n",
              "    display: none;\n",
              "    fill: var(--fill-color);\n",
              "    height: 32px;\n",
              "    padding: 0;\n",
              "    width: 32px;\n",
              "  }\n",
              "\n",
              "  .colab-df-quickchart:hover {\n",
              "    background-color: var(--hover-bg-color);\n",
              "    box-shadow: 0 1px 2px rgba(60, 64, 67, 0.3), 0 1px 3px 1px rgba(60, 64, 67, 0.15);\n",
              "    fill: var(--button-hover-fill-color);\n",
              "  }\n",
              "\n",
              "  .colab-df-quickchart-complete:disabled,\n",
              "  .colab-df-quickchart-complete:disabled:hover {\n",
              "    background-color: var(--disabled-bg-color);\n",
              "    fill: var(--disabled-fill-color);\n",
              "    box-shadow: none;\n",
              "  }\n",
              "\n",
              "  .colab-df-spinner {\n",
              "    border: 2px solid var(--fill-color);\n",
              "    border-color: transparent;\n",
              "    border-bottom-color: var(--fill-color);\n",
              "    animation:\n",
              "      spin 1s steps(1) infinite;\n",
              "  }\n",
              "\n",
              "  @keyframes spin {\n",
              "    0% {\n",
              "      border-color: transparent;\n",
              "      border-bottom-color: var(--fill-color);\n",
              "      border-left-color: var(--fill-color);\n",
              "    }\n",
              "    20% {\n",
              "      border-color: transparent;\n",
              "      border-left-color: var(--fill-color);\n",
              "      border-top-color: var(--fill-color);\n",
              "    }\n",
              "    30% {\n",
              "      border-color: transparent;\n",
              "      border-left-color: var(--fill-color);\n",
              "      border-top-color: var(--fill-color);\n",
              "      border-right-color: var(--fill-color);\n",
              "    }\n",
              "    40% {\n",
              "      border-color: transparent;\n",
              "      border-right-color: var(--fill-color);\n",
              "      border-top-color: var(--fill-color);\n",
              "    }\n",
              "    60% {\n",
              "      border-color: transparent;\n",
              "      border-right-color: var(--fill-color);\n",
              "    }\n",
              "    80% {\n",
              "      border-color: transparent;\n",
              "      border-right-color: var(--fill-color);\n",
              "      border-bottom-color: var(--fill-color);\n",
              "    }\n",
              "    90% {\n",
              "      border-color: transparent;\n",
              "      border-bottom-color: var(--fill-color);\n",
              "    }\n",
              "  }\n",
              "</style>\n",
              "\n",
              "  <script>\n",
              "    async function quickchart(key) {\n",
              "      const quickchartButtonEl =\n",
              "        document.querySelector('#' + key + ' button');\n",
              "      quickchartButtonEl.disabled = true;  // To prevent multiple clicks.\n",
              "      quickchartButtonEl.classList.add('colab-df-spinner');\n",
              "      try {\n",
              "        const charts = await google.colab.kernel.invokeFunction(\n",
              "            'suggestCharts', [key], {});\n",
              "      } catch (error) {\n",
              "        console.error('Error during call to suggestCharts:', error);\n",
              "      }\n",
              "      quickchartButtonEl.classList.remove('colab-df-spinner');\n",
              "      quickchartButtonEl.classList.add('colab-df-quickchart-complete');\n",
              "    }\n",
              "    (() => {\n",
              "      let quickchartButtonEl =\n",
              "        document.querySelector('#df-ddd4198a-a0f5-450c-b2db-457babc142de button');\n",
              "      quickchartButtonEl.style.display =\n",
              "        google.colab.kernel.accessAllowed ? 'block' : 'none';\n",
              "    })();\n",
              "  </script>\n",
              "</div>\n",
              "\n",
              "    </div>\n",
              "  </div>\n"
            ],
            "application/vnd.google.colaboratory.intrinsic+json": {
              "type": "dataframe",
              "variable_name": "df",
              "summary": "{\n  \"name\": \"df\",\n  \"rows\": 339,\n  \"fields\": [\n    {\n      \"column\": \"text\",\n      \"properties\": {\n        \"dtype\": \"string\",\n        \"num_unique_values\": 338,\n        \"samples\": [\n          \"Dear Customer Support, \\n\\nI am experiencing a high priority issue accessing Adobe Photoshop 2024 via my Creative Cloud subscription. I am repeatedly prompted with errors hindering my photo editing tasks. This has become an urgent matter as my projects' completion timelines are affected. Could you please investigate and resolve this issue swiftly? For reference, my Creative Cloud account number is <acc_num>. You can reach me at <tel_num> or via email. Looking forward to your prompt response. \\n\\nThank you, \\n<name>\",\n          \"Dear IT Services Support Team, \\n\\nI am writing to report an urgent issue our client is facing related to AWS authentication errors. This is causing significant disruptions to deploying critical functionality in their remote enterprise systems using AWS Management Service. Prompt assistance would be greatly appreciated to resolve these issues.\\n\\nThank you, \\n<name> \\n<tel_num>\",\n          \"Greetings Support Team,\\n\\nI am in search of specialized help related to software development and server management through your IT Consulting Services. I would greatly appreciate comprehensive recommendations to enhance our current system. Please contact me at your earliest convenience.\\n\\nThank you,\\n<name>\"\n        ],\n        \"semantic_type\": \"\",\n        \"description\": \"\"\n      }\n    },\n    {\n      \"column\": \"labels\",\n      \"properties\": {\n        \"dtype\": \"category\",\n        \"num_unique_values\": 10,\n        \"samples\": [\n          \"General Inquiry\",\n          \"Product Support\",\n          \"Customer Service\"\n        ],\n        \"semantic_type\": \"\",\n        \"description\": \"\"\n      }\n    }\n  ]\n}"
            }
          },
          "metadata": {},
          "execution_count": 3
        }
      ],
      "execution_count": 3
    },
    {
      "cell_type": "code",
      "source": [
        "df.dropna(inplace=True)"
      ],
      "metadata": {
        "trusted": true,
        "execution": {
          "iopub.status.busy": "2024-12-22T04:44:49.565164Z",
          "iopub.execute_input": "2024-12-22T04:44:49.565452Z",
          "iopub.status.idle": "2024-12-22T04:44:49.572502Z",
          "shell.execute_reply.started": "2024-12-22T04:44:49.565429Z",
          "shell.execute_reply": "2024-12-22T04:44:49.571737Z"
        },
        "id": "Oip-swE8W4vx"
      },
      "outputs": [],
      "execution_count": 4
    },
    {
      "cell_type": "code",
      "source": [
        "df.head()"
      ],
      "metadata": {
        "colab": {
          "base_uri": "https://localhost:8080/",
          "height": 206
        },
        "id": "IuO2sCcmftFW",
        "outputId": "dd42b34d-81d8-41ad-9eb5-16df7bb559e7"
      },
      "execution_count": 5,
      "outputs": [
        {
          "output_type": "execute_result",
          "data": {
            "text/plain": [
              "                                                text                 labels\n",
              "0  Dear Customer Support Team, We are experiencin...      Technical Support\n",
              "1  Dear Customer Support,<br><br>I hope this mess...        Product Support\n",
              "2  Dear Tech Online Store Customer Support,\\n\\nI ...  Returns and Exchanges\n",
              "3  Dear IT Services Customer Support, \\n\\nWe are ...        Product Support\n",
              "4  Greetings IT Services Customer Support,\\n\\nI a...      Technical Support"
            ],
            "text/html": [
              "\n",
              "  <div id=\"df-8812d133-fe9e-45c6-bc0f-e304ac69e7e0\" class=\"colab-df-container\">\n",
              "    <div>\n",
              "<style scoped>\n",
              "    .dataframe tbody tr th:only-of-type {\n",
              "        vertical-align: middle;\n",
              "    }\n",
              "\n",
              "    .dataframe tbody tr th {\n",
              "        vertical-align: top;\n",
              "    }\n",
              "\n",
              "    .dataframe thead th {\n",
              "        text-align: right;\n",
              "    }\n",
              "</style>\n",
              "<table border=\"1\" class=\"dataframe\">\n",
              "  <thead>\n",
              "    <tr style=\"text-align: right;\">\n",
              "      <th></th>\n",
              "      <th>text</th>\n",
              "      <th>labels</th>\n",
              "    </tr>\n",
              "  </thead>\n",
              "  <tbody>\n",
              "    <tr>\n",
              "      <th>0</th>\n",
              "      <td>Dear Customer Support Team, We are experiencin...</td>\n",
              "      <td>Technical Support</td>\n",
              "    </tr>\n",
              "    <tr>\n",
              "      <th>1</th>\n",
              "      <td>Dear Customer Support,&lt;br&gt;&lt;br&gt;I hope this mess...</td>\n",
              "      <td>Product Support</td>\n",
              "    </tr>\n",
              "    <tr>\n",
              "      <th>2</th>\n",
              "      <td>Dear Tech Online Store Customer Support,\\n\\nI ...</td>\n",
              "      <td>Returns and Exchanges</td>\n",
              "    </tr>\n",
              "    <tr>\n",
              "      <th>3</th>\n",
              "      <td>Dear IT Services Customer Support, \\n\\nWe are ...</td>\n",
              "      <td>Product Support</td>\n",
              "    </tr>\n",
              "    <tr>\n",
              "      <th>4</th>\n",
              "      <td>Greetings IT Services Customer Support,\\n\\nI a...</td>\n",
              "      <td>Technical Support</td>\n",
              "    </tr>\n",
              "  </tbody>\n",
              "</table>\n",
              "</div>\n",
              "    <div class=\"colab-df-buttons\">\n",
              "\n",
              "  <div class=\"colab-df-container\">\n",
              "    <button class=\"colab-df-convert\" onclick=\"convertToInteractive('df-8812d133-fe9e-45c6-bc0f-e304ac69e7e0')\"\n",
              "            title=\"Convert this dataframe to an interactive table.\"\n",
              "            style=\"display:none;\">\n",
              "\n",
              "  <svg xmlns=\"http://www.w3.org/2000/svg\" height=\"24px\" viewBox=\"0 -960 960 960\">\n",
              "    <path d=\"M120-120v-720h720v720H120Zm60-500h600v-160H180v160Zm220 220h160v-160H400v160Zm0 220h160v-160H400v160ZM180-400h160v-160H180v160Zm440 0h160v-160H620v160ZM180-180h160v-160H180v160Zm440 0h160v-160H620v160Z\"/>\n",
              "  </svg>\n",
              "    </button>\n",
              "\n",
              "  <style>\n",
              "    .colab-df-container {\n",
              "      display:flex;\n",
              "      gap: 12px;\n",
              "    }\n",
              "\n",
              "    .colab-df-convert {\n",
              "      background-color: #E8F0FE;\n",
              "      border: none;\n",
              "      border-radius: 50%;\n",
              "      cursor: pointer;\n",
              "      display: none;\n",
              "      fill: #1967D2;\n",
              "      height: 32px;\n",
              "      padding: 0 0 0 0;\n",
              "      width: 32px;\n",
              "    }\n",
              "\n",
              "    .colab-df-convert:hover {\n",
              "      background-color: #E2EBFA;\n",
              "      box-shadow: 0px 1px 2px rgba(60, 64, 67, 0.3), 0px 1px 3px 1px rgba(60, 64, 67, 0.15);\n",
              "      fill: #174EA6;\n",
              "    }\n",
              "\n",
              "    .colab-df-buttons div {\n",
              "      margin-bottom: 4px;\n",
              "    }\n",
              "\n",
              "    [theme=dark] .colab-df-convert {\n",
              "      background-color: #3B4455;\n",
              "      fill: #D2E3FC;\n",
              "    }\n",
              "\n",
              "    [theme=dark] .colab-df-convert:hover {\n",
              "      background-color: #434B5C;\n",
              "      box-shadow: 0px 1px 3px 1px rgba(0, 0, 0, 0.15);\n",
              "      filter: drop-shadow(0px 1px 2px rgba(0, 0, 0, 0.3));\n",
              "      fill: #FFFFFF;\n",
              "    }\n",
              "  </style>\n",
              "\n",
              "    <script>\n",
              "      const buttonEl =\n",
              "        document.querySelector('#df-8812d133-fe9e-45c6-bc0f-e304ac69e7e0 button.colab-df-convert');\n",
              "      buttonEl.style.display =\n",
              "        google.colab.kernel.accessAllowed ? 'block' : 'none';\n",
              "\n",
              "      async function convertToInteractive(key) {\n",
              "        const element = document.querySelector('#df-8812d133-fe9e-45c6-bc0f-e304ac69e7e0');\n",
              "        const dataTable =\n",
              "          await google.colab.kernel.invokeFunction('convertToInteractive',\n",
              "                                                    [key], {});\n",
              "        if (!dataTable) return;\n",
              "\n",
              "        const docLinkHtml = 'Like what you see? Visit the ' +\n",
              "          '<a target=\"_blank\" href=https://colab.research.google.com/notebooks/data_table.ipynb>data table notebook</a>'\n",
              "          + ' to learn more about interactive tables.';\n",
              "        element.innerHTML = '';\n",
              "        dataTable['output_type'] = 'display_data';\n",
              "        await google.colab.output.renderOutput(dataTable, element);\n",
              "        const docLink = document.createElement('div');\n",
              "        docLink.innerHTML = docLinkHtml;\n",
              "        element.appendChild(docLink);\n",
              "      }\n",
              "    </script>\n",
              "  </div>\n",
              "\n",
              "\n",
              "<div id=\"df-14f91f37-8087-4f69-bbee-06f6bd2ffd3c\">\n",
              "  <button class=\"colab-df-quickchart\" onclick=\"quickchart('df-14f91f37-8087-4f69-bbee-06f6bd2ffd3c')\"\n",
              "            title=\"Suggest charts\"\n",
              "            style=\"display:none;\">\n",
              "\n",
              "<svg xmlns=\"http://www.w3.org/2000/svg\" height=\"24px\"viewBox=\"0 0 24 24\"\n",
              "     width=\"24px\">\n",
              "    <g>\n",
              "        <path d=\"M19 3H5c-1.1 0-2 .9-2 2v14c0 1.1.9 2 2 2h14c1.1 0 2-.9 2-2V5c0-1.1-.9-2-2-2zM9 17H7v-7h2v7zm4 0h-2V7h2v10zm4 0h-2v-4h2v4z\"/>\n",
              "    </g>\n",
              "</svg>\n",
              "  </button>\n",
              "\n",
              "<style>\n",
              "  .colab-df-quickchart {\n",
              "      --bg-color: #E8F0FE;\n",
              "      --fill-color: #1967D2;\n",
              "      --hover-bg-color: #E2EBFA;\n",
              "      --hover-fill-color: #174EA6;\n",
              "      --disabled-fill-color: #AAA;\n",
              "      --disabled-bg-color: #DDD;\n",
              "  }\n",
              "\n",
              "  [theme=dark] .colab-df-quickchart {\n",
              "      --bg-color: #3B4455;\n",
              "      --fill-color: #D2E3FC;\n",
              "      --hover-bg-color: #434B5C;\n",
              "      --hover-fill-color: #FFFFFF;\n",
              "      --disabled-bg-color: #3B4455;\n",
              "      --disabled-fill-color: #666;\n",
              "  }\n",
              "\n",
              "  .colab-df-quickchart {\n",
              "    background-color: var(--bg-color);\n",
              "    border: none;\n",
              "    border-radius: 50%;\n",
              "    cursor: pointer;\n",
              "    display: none;\n",
              "    fill: var(--fill-color);\n",
              "    height: 32px;\n",
              "    padding: 0;\n",
              "    width: 32px;\n",
              "  }\n",
              "\n",
              "  .colab-df-quickchart:hover {\n",
              "    background-color: var(--hover-bg-color);\n",
              "    box-shadow: 0 1px 2px rgba(60, 64, 67, 0.3), 0 1px 3px 1px rgba(60, 64, 67, 0.15);\n",
              "    fill: var(--button-hover-fill-color);\n",
              "  }\n",
              "\n",
              "  .colab-df-quickchart-complete:disabled,\n",
              "  .colab-df-quickchart-complete:disabled:hover {\n",
              "    background-color: var(--disabled-bg-color);\n",
              "    fill: var(--disabled-fill-color);\n",
              "    box-shadow: none;\n",
              "  }\n",
              "\n",
              "  .colab-df-spinner {\n",
              "    border: 2px solid var(--fill-color);\n",
              "    border-color: transparent;\n",
              "    border-bottom-color: var(--fill-color);\n",
              "    animation:\n",
              "      spin 1s steps(1) infinite;\n",
              "  }\n",
              "\n",
              "  @keyframes spin {\n",
              "    0% {\n",
              "      border-color: transparent;\n",
              "      border-bottom-color: var(--fill-color);\n",
              "      border-left-color: var(--fill-color);\n",
              "    }\n",
              "    20% {\n",
              "      border-color: transparent;\n",
              "      border-left-color: var(--fill-color);\n",
              "      border-top-color: var(--fill-color);\n",
              "    }\n",
              "    30% {\n",
              "      border-color: transparent;\n",
              "      border-left-color: var(--fill-color);\n",
              "      border-top-color: var(--fill-color);\n",
              "      border-right-color: var(--fill-color);\n",
              "    }\n",
              "    40% {\n",
              "      border-color: transparent;\n",
              "      border-right-color: var(--fill-color);\n",
              "      border-top-color: var(--fill-color);\n",
              "    }\n",
              "    60% {\n",
              "      border-color: transparent;\n",
              "      border-right-color: var(--fill-color);\n",
              "    }\n",
              "    80% {\n",
              "      border-color: transparent;\n",
              "      border-right-color: var(--fill-color);\n",
              "      border-bottom-color: var(--fill-color);\n",
              "    }\n",
              "    90% {\n",
              "      border-color: transparent;\n",
              "      border-bottom-color: var(--fill-color);\n",
              "    }\n",
              "  }\n",
              "</style>\n",
              "\n",
              "  <script>\n",
              "    async function quickchart(key) {\n",
              "      const quickchartButtonEl =\n",
              "        document.querySelector('#' + key + ' button');\n",
              "      quickchartButtonEl.disabled = true;  // To prevent multiple clicks.\n",
              "      quickchartButtonEl.classList.add('colab-df-spinner');\n",
              "      try {\n",
              "        const charts = await google.colab.kernel.invokeFunction(\n",
              "            'suggestCharts', [key], {});\n",
              "      } catch (error) {\n",
              "        console.error('Error during call to suggestCharts:', error);\n",
              "      }\n",
              "      quickchartButtonEl.classList.remove('colab-df-spinner');\n",
              "      quickchartButtonEl.classList.add('colab-df-quickchart-complete');\n",
              "    }\n",
              "    (() => {\n",
              "      let quickchartButtonEl =\n",
              "        document.querySelector('#df-14f91f37-8087-4f69-bbee-06f6bd2ffd3c button');\n",
              "      quickchartButtonEl.style.display =\n",
              "        google.colab.kernel.accessAllowed ? 'block' : 'none';\n",
              "    })();\n",
              "  </script>\n",
              "</div>\n",
              "\n",
              "    </div>\n",
              "  </div>\n"
            ],
            "application/vnd.google.colaboratory.intrinsic+json": {
              "type": "dataframe",
              "variable_name": "df",
              "summary": "{\n  \"name\": \"df\",\n  \"rows\": 338,\n  \"fields\": [\n    {\n      \"column\": \"text\",\n      \"properties\": {\n        \"dtype\": \"string\",\n        \"num_unique_values\": 338,\n        \"samples\": [\n          \"Dear Customer Support, \\n\\nI am experiencing a high priority issue accessing Adobe Photoshop 2024 via my Creative Cloud subscription. I am repeatedly prompted with errors hindering my photo editing tasks. This has become an urgent matter as my projects' completion timelines are affected. Could you please investigate and resolve this issue swiftly? For reference, my Creative Cloud account number is <acc_num>. You can reach me at <tel_num> or via email. Looking forward to your prompt response. \\n\\nThank you, \\n<name>\",\n          \"Dear IT Services Support Team, \\n\\nI am writing to report an urgent issue our client is facing related to AWS authentication errors. This is causing significant disruptions to deploying critical functionality in their remote enterprise systems using AWS Management Service. Prompt assistance would be greatly appreciated to resolve these issues.\\n\\nThank you, \\n<name> \\n<tel_num>\",\n          \"Greetings Support Team,\\n\\nI am in search of specialized help related to software development and server management through your IT Consulting Services. I would greatly appreciate comprehensive recommendations to enhance our current system. Please contact me at your earliest convenience.\\n\\nThank you,\\n<name>\"\n        ],\n        \"semantic_type\": \"\",\n        \"description\": \"\"\n      }\n    },\n    {\n      \"column\": \"labels\",\n      \"properties\": {\n        \"dtype\": \"category\",\n        \"num_unique_values\": 10,\n        \"samples\": [\n          \"General Inquiry\",\n          \"Product Support\",\n          \"Customer Service\"\n        ],\n        \"semantic_type\": \"\",\n        \"description\": \"\"\n      }\n    }\n  ]\n}"
            }
          },
          "metadata": {},
          "execution_count": 5
        }
      ]
    },
    {
      "cell_type": "code",
      "source": [
        "label_encoder = LabelEncoder()\n",
        "df['labels'] = label_encoder.fit_transform(df['labels']) # converts labels which are in character to numeric format"
      ],
      "metadata": {
        "id": "6y5KtrAif5i2"
      },
      "execution_count": 6,
      "outputs": []
    },
    {
      "cell_type": "code",
      "source": [
        "df.head()\n",
        "label_encoder.inverse_transform([0, 1])"
      ],
      "metadata": {
        "colab": {
          "base_uri": "https://localhost:8080/"
        },
        "id": "jsyZKHq-f6oZ",
        "outputId": "0f0ebae7-e294-4ed0-b3cb-e6188ae54671"
      },
      "execution_count": 7,
      "outputs": [
        {
          "output_type": "execute_result",
          "data": {
            "text/plain": [
              "array(['Billing and Payments', 'Customer Service'], dtype=object)"
            ]
          },
          "metadata": {},
          "execution_count": 7
        }
      ]
    },
    {
      "cell_type": "code",
      "source": [
        "# Convert to Hugging Face Dataset\n",
        "dataset = Dataset.from_pandas(df[['text', 'labels']])\n",
        "hf_dataset = dataset.train_test_split(test_size=0.145)\n",
        "print(hf_dataset)"
      ],
      "metadata": {
        "trusted": true,
        "execution": {
          "iopub.status.busy": "2024-12-22T04:44:49.573381Z",
          "iopub.execute_input": "2024-12-22T04:44:49.573649Z",
          "iopub.status.idle": "2024-12-22T04:44:49.614798Z",
          "shell.execute_reply.started": "2024-12-22T04:44:49.573627Z",
          "shell.execute_reply": "2024-12-22T04:44:49.613974Z"
        },
        "colab": {
          "base_uri": "https://localhost:8080/"
        },
        "id": "jmeT61bSW4vz",
        "outputId": "ef002528-21f5-4e20-ef96-55d54fbd5d5c"
      },
      "outputs": [
        {
          "output_type": "stream",
          "name": "stdout",
          "text": [
            "DatasetDict({\n",
            "    train: Dataset({\n",
            "        features: ['text', 'labels', '__index_level_0__'],\n",
            "        num_rows: 288\n",
            "    })\n",
            "    test: Dataset({\n",
            "        features: ['text', 'labels', '__index_level_0__'],\n",
            "        num_rows: 50\n",
            "    })\n",
            "})\n"
          ]
        }
      ],
      "execution_count": 8
    },
    {
      "cell_type": "code",
      "source": [
        "label_encoder.classes_"
      ],
      "metadata": {
        "trusted": true,
        "execution": {
          "iopub.status.busy": "2024-12-22T04:44:49.615617Z",
          "iopub.execute_input": "2024-12-22T04:44:49.615928Z",
          "iopub.status.idle": "2024-12-22T04:44:49.620850Z",
          "shell.execute_reply.started": "2024-12-22T04:44:49.615899Z",
          "shell.execute_reply": "2024-12-22T04:44:49.620064Z"
        },
        "colab": {
          "base_uri": "https://localhost:8080/"
        },
        "id": "4rNVXjnFW4v1",
        "outputId": "470c5bfc-a951-481a-ef20-85a76923fedb"
      },
      "outputs": [
        {
          "output_type": "execute_result",
          "data": {
            "text/plain": [
              "array(['Billing and Payments', 'Customer Service', 'General Inquiry',\n",
              "       'Human Resources', 'IT Support', 'Product Support',\n",
              "       'Returns and Exchanges', 'Sales and Pre-Sales',\n",
              "       'Service Outages and Maintenance', 'Technical Support'],\n",
              "      dtype=object)"
            ]
          },
          "metadata": {},
          "execution_count": 9
        }
      ],
      "execution_count": 9
    },
    {
      "cell_type": "code",
      "source": [
        "label_encoder.inverse_transform([int(1)])"
      ],
      "metadata": {
        "colab": {
          "base_uri": "https://localhost:8080/"
        },
        "id": "fNBGlqXefVLM",
        "outputId": "7da5311a-0fb4-4ebc-d382-ad3ee5c47cef"
      },
      "execution_count": 10,
      "outputs": [
        {
          "output_type": "execute_result",
          "data": {
            "text/plain": [
              "array(['Customer Service'], dtype=object)"
            ]
          },
          "metadata": {},
          "execution_count": 10
        }
      ]
    },
    {
      "cell_type": "code",
      "source": [
        "from transformers import AutoTokenizer, AutoModelForSequenceClassification\n",
        "\n",
        "model_name = \"microsoft/deberta-v3-base\"  # loading the deberta model\n",
        "tokenizer = AutoTokenizer.from_pretrained(model_name, device_map=\"cuda\")\n",
        "model = AutoModelForSequenceClassification.from_pretrained(model_name, num_labels=len(label_encoder.classes_), device_map=\"cuda\")"
      ],
      "metadata": {
        "trusted": true,
        "execution": {
          "iopub.status.busy": "2024-12-22T04:44:49.621850Z",
          "iopub.execute_input": "2024-12-22T04:44:49.622148Z",
          "iopub.status.idle": "2024-12-22T04:44:58.957934Z",
          "shell.execute_reply.started": "2024-12-22T04:44:49.622120Z",
          "shell.execute_reply": "2024-12-22T04:44:58.957046Z"
        },
        "colab": {
          "base_uri": "https://localhost:8080/"
        },
        "id": "a3fxytW7W4v4",
        "outputId": "1817c176-b976-4ff9-f57a-7c7f801b61a5"
      },
      "outputs": [
        {
          "output_type": "stream",
          "name": "stderr",
          "text": [
            "/usr/local/lib/python3.10/dist-packages/huggingface_hub/utils/_auth.py:94: UserWarning: \n",
            "The secret `HF_TOKEN` does not exist in your Colab secrets.\n",
            "To authenticate with the Hugging Face Hub, create a token in your settings tab (https://huggingface.co/settings/tokens), set it as secret in your Google Colab and restart your session.\n",
            "You will be able to reuse this secret in all of your notebooks.\n",
            "Please note that authentication is recommended but still optional to access public models or datasets.\n",
            "  warnings.warn(\n",
            "/usr/local/lib/python3.10/dist-packages/transformers/convert_slow_tokenizer.py:561: UserWarning: The sentencepiece tokenizer that you are converting to a fast tokenizer uses the byte fallback option which is not implemented in the fast tokenizers. In practice this means that the fast version of the tokenizer can produce unknown tokens whereas the sentencepiece version would have converted these unknown tokens into a sequence of byte tokens matching the original piece of text.\n",
            "  warnings.warn(\n",
            "Some weights of DebertaV2ForSequenceClassification were not initialized from the model checkpoint at microsoft/deberta-v3-base and are newly initialized: ['classifier.bias', 'classifier.weight', 'pooler.dense.bias', 'pooler.dense.weight']\n",
            "You should probably TRAIN this model on a down-stream task to be able to use it for predictions and inference.\n"
          ]
        }
      ],
      "execution_count": 11
    },
    {
      "cell_type": "code",
      "source": [
        "def preprocess_function(examples):\n",
        "    return tokenizer(examples['text'], truncation=True, padding=True)\n",
        "\n",
        "tokenized_datasets = hf_dataset.map(preprocess_function, batched=True)"
      ],
      "metadata": {
        "trusted": true,
        "execution": {
          "iopub.status.busy": "2024-12-22T04:44:58.958902Z",
          "iopub.execute_input": "2024-12-22T04:44:58.959408Z",
          "iopub.status.idle": "2024-12-22T04:44:59.180140Z",
          "shell.execute_reply.started": "2024-12-22T04:44:58.959384Z",
          "shell.execute_reply": "2024-12-22T04:44:59.179122Z"
        },
        "colab": {
          "base_uri": "https://localhost:8080/",
          "height": 98,
          "referenced_widgets": [
            "aabb922334054a319c0e5abf035f1b45",
            "aab2d3fea57d4adfae91292f75d9aa04",
            "66e6d7c62d3d442eb209a83424659297",
            "db2facee76644c26ae8c5767b73f1d63",
            "c22afa468a544dc59611d4aa92a0fe86",
            "8e4e1cbca0634628baa677b9073a902a",
            "9d9ece08ed8a4049a08edeefa6c1a7ff",
            "a36df14be455497eb767d3c030272370",
            "c3971e50e0574179bcbba4a3bf9bffa0",
            "629f0ef44be14cd592dd15ded0e77874",
            "71bdb8bc4ed44d1b979fc85b89310d3e",
            "d4f37b414df44c149424fde83212c789",
            "21769af18c7846afb61cc14582355965",
            "aff82ee6761643d3979ea0d788f6613d",
            "48590c34056c433fb5368b0c59e6879c",
            "2b04df6cf47640fa984bc98dbdf78330",
            "1eef21b71e26477ab10c247551edbde5",
            "5ef7f3926bc74886a3f117aee34a7a8d",
            "45c0d6852a244c87af789a6934cc2ab1",
            "f8b853c1f3c842698f6fcd00f3358035",
            "653c1963fd4c4831862a66544cc2bd84",
            "6c5bd42fbafd489d81f61820fb0da37f"
          ]
        },
        "id": "3La6abIMW4v5",
        "outputId": "7554fd7d-c2c3-43bf-f132-2b20376b1127"
      },
      "outputs": [
        {
          "output_type": "display_data",
          "data": {
            "text/plain": [
              "Map:   0%|          | 0/288 [00:00<?, ? examples/s]"
            ],
            "application/vnd.jupyter.widget-view+json": {
              "version_major": 2,
              "version_minor": 0,
              "model_id": "aabb922334054a319c0e5abf035f1b45"
            }
          },
          "metadata": {}
        },
        {
          "output_type": "stream",
          "name": "stderr",
          "text": [
            "Asking to truncate to max_length but no maximum length is provided and the model has no predefined maximum length. Default to no truncation.\n"
          ]
        },
        {
          "output_type": "display_data",
          "data": {
            "text/plain": [
              "Map:   0%|          | 0/50 [00:00<?, ? examples/s]"
            ],
            "application/vnd.jupyter.widget-view+json": {
              "version_major": 2,
              "version_minor": 0,
              "model_id": "d4f37b414df44c149424fde83212c789"
            }
          },
          "metadata": {}
        }
      ],
      "execution_count": 12
    },
    {
      "cell_type": "code",
      "source": [
        "from transformers import TrainingArguments, Trainer\n",
        "\n",
        "training_args = TrainingArguments(\n",
        "    output_dir=\"./results\",\n",
        "    evaluation_strategy=\"steps\",\n",
        "    learning_rate=0.00002,\n",
        "    per_device_train_batch_size=8,\n",
        "    per_device_eval_batch_size=8,\n",
        "    num_train_epochs=10,\n",
        "    weight_decay=0.05,\n",
        "    logging_dir='./logs',\n",
        "    logging_steps=30,\n",
        "    report_to='none',\n",
        "    use_cpu=False\n",
        ")\n",
        "\n",
        "trainer = Trainer(\n",
        "    model=model,\n",
        "    args=training_args,\n",
        "    train_dataset=tokenized_datasets['train'],\n",
        "    eval_dataset=tokenized_datasets['test'],\n",
        "    tokenizer=tokenizer\n",
        ")"
      ],
      "metadata": {
        "trusted": true,
        "execution": {
          "iopub.status.busy": "2024-12-22T04:44:59.182435Z",
          "iopub.execute_input": "2024-12-22T04:44:59.182726Z",
          "iopub.status.idle": "2024-12-22T04:45:07.322196Z",
          "shell.execute_reply.started": "2024-12-22T04:44:59.182680Z",
          "shell.execute_reply": "2024-12-22T04:45:07.321472Z"
        },
        "colab": {
          "base_uri": "https://localhost:8080/"
        },
        "id": "J6Ed_E8IW4v7",
        "outputId": "d2080143-e7e1-4ff0-a0b5-29bebf96a629"
      },
      "outputs": [
        {
          "output_type": "stream",
          "name": "stderr",
          "text": [
            "/usr/local/lib/python3.10/dist-packages/transformers/training_args.py:1575: FutureWarning: `evaluation_strategy` is deprecated and will be removed in version 4.46 of 🤗 Transformers. Use `eval_strategy` instead\n",
            "  warnings.warn(\n",
            "<ipython-input-13-cd986ee95808>:17: FutureWarning: `tokenizer` is deprecated and will be removed in version 5.0.0 for `Trainer.__init__`. Use `processing_class` instead.\n",
            "  trainer = Trainer(\n"
          ]
        }
      ],
      "execution_count": 13
    },
    {
      "cell_type": "code",
      "source": [
        "trainer.train()"
      ],
      "metadata": {
        "trusted": true,
        "execution": {
          "iopub.status.busy": "2024-12-22T04:45:07.323318Z",
          "iopub.execute_input": "2024-12-22T04:45:07.323953Z",
          "iopub.status.idle": "2024-12-22T04:48:11.465306Z",
          "shell.execute_reply.started": "2024-12-22T04:45:07.323928Z",
          "shell.execute_reply": "2024-12-22T04:48:11.464577Z"
        },
        "colab": {
          "base_uri": "https://localhost:8080/",
          "height": 486
        },
        "id": "tvWW7C9FW4v8",
        "outputId": "ea66cc7b-abab-48b2-a7aa-8c464c82eb9d"
      },
      "outputs": [
        {
          "output_type": "display_data",
          "data": {
            "text/plain": [
              "<IPython.core.display.HTML object>"
            ],
            "text/html": [
              "\n",
              "    <div>\n",
              "      \n",
              "      <progress value='360' max='360' style='width:300px; height:20px; vertical-align: middle;'></progress>\n",
              "      [360/360 05:07, Epoch 10/10]\n",
              "    </div>\n",
              "    <table border=\"1\" class=\"dataframe\">\n",
              "  <thead>\n",
              " <tr style=\"text-align: left;\">\n",
              "      <th>Step</th>\n",
              "      <th>Training Loss</th>\n",
              "      <th>Validation Loss</th>\n",
              "    </tr>\n",
              "  </thead>\n",
              "  <tbody>\n",
              "    <tr>\n",
              "      <td>30</td>\n",
              "      <td>2.077100</td>\n",
              "      <td>1.924691</td>\n",
              "    </tr>\n",
              "    <tr>\n",
              "      <td>60</td>\n",
              "      <td>1.812300</td>\n",
              "      <td>1.824528</td>\n",
              "    </tr>\n",
              "    <tr>\n",
              "      <td>90</td>\n",
              "      <td>1.734800</td>\n",
              "      <td>1.634632</td>\n",
              "    </tr>\n",
              "    <tr>\n",
              "      <td>120</td>\n",
              "      <td>1.626600</td>\n",
              "      <td>1.542101</td>\n",
              "    </tr>\n",
              "    <tr>\n",
              "      <td>150</td>\n",
              "      <td>1.443700</td>\n",
              "      <td>1.370551</td>\n",
              "    </tr>\n",
              "    <tr>\n",
              "      <td>180</td>\n",
              "      <td>1.335900</td>\n",
              "      <td>1.447520</td>\n",
              "    </tr>\n",
              "    <tr>\n",
              "      <td>210</td>\n",
              "      <td>1.274900</td>\n",
              "      <td>1.310222</td>\n",
              "    </tr>\n",
              "    <tr>\n",
              "      <td>240</td>\n",
              "      <td>1.124900</td>\n",
              "      <td>1.263500</td>\n",
              "    </tr>\n",
              "    <tr>\n",
              "      <td>270</td>\n",
              "      <td>1.006800</td>\n",
              "      <td>1.237423</td>\n",
              "    </tr>\n",
              "    <tr>\n",
              "      <td>300</td>\n",
              "      <td>0.968800</td>\n",
              "      <td>1.239888</td>\n",
              "    </tr>\n",
              "    <tr>\n",
              "      <td>330</td>\n",
              "      <td>0.919700</td>\n",
              "      <td>1.220557</td>\n",
              "    </tr>\n",
              "    <tr>\n",
              "      <td>360</td>\n",
              "      <td>0.833100</td>\n",
              "      <td>1.186882</td>\n",
              "    </tr>\n",
              "  </tbody>\n",
              "</table><p>"
            ]
          },
          "metadata": {}
        },
        {
          "output_type": "execute_result",
          "data": {
            "text/plain": [
              "TrainOutput(global_step=360, training_loss=1.3465450922648112, metrics={'train_runtime': 309.0366, 'train_samples_per_second': 9.319, 'train_steps_per_second': 1.165, 'total_flos': 506205326983680.0, 'train_loss': 1.3465450922648112, 'epoch': 10.0})"
            ]
          },
          "metadata": {},
          "execution_count": 14
        }
      ],
      "execution_count": 14
    },
    {
      "cell_type": "code",
      "source": [
        "trainer.evaluate()"
      ],
      "metadata": {
        "trusted": true,
        "execution": {
          "iopub.status.busy": "2024-12-22T04:48:11.466109Z",
          "iopub.execute_input": "2024-12-22T04:48:11.466406Z",
          "iopub.status.idle": "2024-12-22T04:48:12.673132Z",
          "shell.execute_reply.started": "2024-12-22T04:48:11.466369Z",
          "shell.execute_reply": "2024-12-22T04:48:12.672290Z"
        },
        "colab": {
          "base_uri": "https://localhost:8080/",
          "height": 124
        },
        "id": "MX0T8iv6W4v9",
        "outputId": "d3c86e70-c078-4dae-8588-589bb1df5118"
      },
      "outputs": [
        {
          "output_type": "display_data",
          "data": {
            "text/plain": [
              "<IPython.core.display.HTML object>"
            ],
            "text/html": [
              "\n",
              "    <div>\n",
              "      \n",
              "      <progress value='7' max='7' style='width:300px; height:20px; vertical-align: middle;'></progress>\n",
              "      [7/7 00:01]\n",
              "    </div>\n",
              "    "
            ]
          },
          "metadata": {}
        },
        {
          "output_type": "execute_result",
          "data": {
            "text/plain": [
              "{'eval_loss': 1.1868816614151,\n",
              " 'eval_runtime': 1.6478,\n",
              " 'eval_samples_per_second': 30.343,\n",
              " 'eval_steps_per_second': 4.248,\n",
              " 'epoch': 10.0}"
            ]
          },
          "metadata": {},
          "execution_count": 15
        }
      ],
      "execution_count": 15
    },
    {
      "cell_type": "code",
      "source": [
        "trainer.save_model(\"./text-classification-model\")\n",
        "tokenizer.save_pretrained(\"./text-classification-model\")"
      ],
      "metadata": {
        "trusted": true,
        "execution": {
          "iopub.status.busy": "2024-12-22T04:48:12.674088Z",
          "iopub.execute_input": "2024-12-22T04:48:12.674320Z",
          "iopub.status.idle": "2024-12-22T04:48:14.552925Z",
          "shell.execute_reply.started": "2024-12-22T04:48:12.674299Z",
          "shell.execute_reply": "2024-12-22T04:48:14.551968Z"
        },
        "colab": {
          "base_uri": "https://localhost:8080/"
        },
        "id": "L_c04LpPW4v-",
        "outputId": "f2d38226-0f11-466c-a955-06942d7a0ef8"
      },
      "outputs": [
        {
          "output_type": "execute_result",
          "data": {
            "text/plain": [
              "('./text-classification-model/tokenizer_config.json',\n",
              " './text-classification-model/special_tokens_map.json',\n",
              " './text-classification-model/spm.model',\n",
              " './text-classification-model/added_tokens.json',\n",
              " './text-classification-model/tokenizer.json')"
            ]
          },
          "metadata": {},
          "execution_count": 16
        }
      ],
      "execution_count": 16
    },
    {
      "cell_type": "code",
      "source": [
        "from transformers import pipeline\n",
        "# loading the locally saved model\n",
        "classifier = pipeline(\"text-classification\", model=\"./text-classification-model\", tokenizer=tokenizer, device_map=\"cuda\")"
      ],
      "metadata": {
        "trusted": true,
        "execution": {
          "iopub.status.busy": "2024-12-22T04:48:14.553806Z",
          "iopub.execute_input": "2024-12-22T04:48:14.554130Z",
          "iopub.status.idle": "2024-12-22T04:48:14.994061Z",
          "shell.execute_reply.started": "2024-12-22T04:48:14.554095Z",
          "shell.execute_reply": "2024-12-22T04:48:14.992978Z"
        },
        "colab": {
          "base_uri": "https://localhost:8080/"
        },
        "id": "KQ-OUNRXW4v_",
        "outputId": "baf147fa-c90a-4e04-e0fd-8fdd6dd10258"
      },
      "outputs": [
        {
          "output_type": "stream",
          "name": "stderr",
          "text": [
            "Device set to use cuda\n"
          ]
        }
      ],
      "execution_count": 17
    },
    {
      "cell_type": "code",
      "source": [
        "# Predictor Function to evaluate some tickets\n",
        "def predictor(input_ticket,org_label):\n",
        "    print(f\"Input Ticket: {input_ticket}\")\n",
        "    result = classifier(input_ticket)\n",
        "    print(\"\\n\")\n",
        "    org_label_decoded = label_encoder.inverse_transform([int(org_label)])[0]\n",
        "    decoded_label = label_encoder.inverse_transform([int(result[0]['label'].split(\"_\")[-1])])[0]\n",
        "    print(\"Original Label: \",org_label,\",Original Label Decoded: \",org_label_decoded)\n",
        "    print(f\"Predicted Label: {int(result[0]['label'].split('_')[-1])} ,Predicted label Decoded: {decoded_label}\")"
      ],
      "metadata": {
        "trusted": true,
        "execution": {
          "iopub.status.busy": "2024-12-22T04:48:14.995090Z",
          "iopub.execute_input": "2024-12-22T04:48:14.995417Z",
          "iopub.status.idle": "2024-12-22T04:48:15.000670Z",
          "shell.execute_reply.started": "2024-12-22T04:48:14.995382Z",
          "shell.execute_reply": "2024-12-22T04:48:14.999862Z"
        },
        "id": "SBg3OloYW4wA"
      },
      "outputs": [],
      "execution_count": 18
    },
    {
      "cell_type": "code",
      "source": [
        "predictor(df['text'][319],df['labels'][319])"
      ],
      "metadata": {
        "trusted": true,
        "execution": {
          "iopub.status.busy": "2024-12-22T04:48:15.001468Z",
          "iopub.execute_input": "2024-12-22T04:48:15.001778Z",
          "iopub.status.idle": "2024-12-22T04:48:15.325454Z",
          "shell.execute_reply.started": "2024-12-22T04:48:15.001747Z",
          "shell.execute_reply": "2024-12-22T04:48:15.324808Z"
        },
        "colab": {
          "base_uri": "https://localhost:8080/"
        },
        "id": "7WTQR6qNW4wA",
        "outputId": "ac36fac9-389c-4d10-f1f6-33d5c799cd40"
      },
      "outputs": [
        {
          "output_type": "stream",
          "name": "stdout",
          "text": [
            "Input Ticket: I am unable to connect to the Wi-Fi.\n",
            "\n",
            "\n",
            "Original Label:  1 ,Original Label Decoded:  Customer Service\n",
            "Predicted Label: 1 ,Predicted label Decoded: Customer Service\n"
          ]
        }
      ],
      "execution_count": 19
    },
    {
      "cell_type": "code",
      "source": [
        "predictor(df['text'][338],df['labels'][338])"
      ],
      "metadata": {
        "trusted": true,
        "execution": {
          "iopub.status.busy": "2024-12-22T04:48:15.326066Z",
          "iopub.execute_input": "2024-12-22T04:48:15.326389Z",
          "iopub.status.idle": "2024-12-22T04:48:15.804655Z",
          "shell.execute_reply.started": "2024-12-22T04:48:15.326364Z",
          "shell.execute_reply": "2024-12-22T04:48:15.803608Z"
        },
        "colab": {
          "base_uri": "https://localhost:8080/"
        },
        "id": "tQnf1aBlW4wB",
        "outputId": "ba8d1ba7-94c0-4bd4-cf2e-110190671846"
      },
      "outputs": [
        {
          "output_type": "stream",
          "name": "stdout",
          "text": [
            "Input Ticket: Dear Customer Support Team,\n",
            "\n",
            "I am contacting you to seek prompt professional help regarding our IT Consulting Service. We are facing an urgent requirement for server setup and network enhancement. Our systems are presently experiencing difficulties that may negatively affect our business activities. It is imperative that we address these issues swiftly to avoid any interruptions.\n",
            "\n",
            "Could you kindly prioritize our request and allocate an expert to help us with these concerns? We need someone with specialized expertise in server setups and optimization methods. Please inform us at your earliest convenience about the availability of your support personnel.\n",
            "\n",
            "We are ready for a consultation call whenever it suits you to provide any additional information needed. You can reach me at <tel_num>.\n",
            "\n",
            "Thank you for your prompt attention to this issue. We anticipate your swift reply.\n",
            "\n",
            "Best regards,\n",
            "\n",
            "<name>\n",
            "\n",
            "\n",
            "Original Label:  9 ,Original Label Decoded:  Technical Support\n",
            "Predicted Label: 9 ,Predicted label Decoded: Technical Support\n"
          ]
        }
      ],
      "execution_count": 20
    },
    {
      "cell_type": "code",
      "source": [
        "predictor(df['text'][317],df['labels'][317])"
      ],
      "metadata": {
        "trusted": true,
        "execution": {
          "iopub.status.busy": "2024-12-22T04:48:15.806603Z",
          "iopub.execute_input": "2024-12-22T04:48:15.807000Z",
          "iopub.status.idle": "2024-12-22T04:48:16.367587Z",
          "shell.execute_reply.started": "2024-12-22T04:48:15.806958Z",
          "shell.execute_reply": "2024-12-22T04:48:16.366575Z"
        },
        "colab": {
          "base_uri": "https://localhost:8080/"
        },
        "id": "ObrDxK3dW4wB",
        "outputId": "b98eeb54-3adb-4d70-96aa-67ea28b62618"
      },
      "outputs": [
        {
          "output_type": "stream",
          "name": "stdout",
          "text": [
            "Input Ticket: Dear Customer Support,\n",
            "\n",
            "I hope this message finds you well. I am writing to bring to your attention an issue concerning the recent billing related to our AWS cloud usage. Upon reviewing our most recent statement, it appears that there are discrepancies that have significantly impacted our cost estimates. It seems the charges associated with the AWS Management Service do not align with the actual usage recorded on our account <acc_num>.\n",
            "\n",
            "The incorrect billing has resulted in unexpected costs that differ noticeably from our budget forecasts, making it difficult for us to manage our financial resources efficiently. This discrepancy was first noticed by <name> from our finance department, prompting an urgent need for your review of the billing details.\n",
            "\n",
            "Could you please conduct a thorough review of our account to determine the cause of this miscalculation? We believe that an error in recording or processing has occurred that needs rectification. We would appreciate it if you could provide us with an updated billing statement and any insights on preventing such issues from occurring in the future.\n",
            "\n",
            "Thank you for your prompt attention to this matter. We look forward to your swift resolution.\n",
            "\n",
            "Best regards,\n",
            "\n",
            "<name>\n",
            "\n",
            "<t_num>\n",
            "\n",
            "\n",
            "Original Label:  0 ,Original Label Decoded:  Billing and Payments\n",
            "Predicted Label: 0 ,Predicted label Decoded: Billing and Payments\n"
          ]
        }
      ],
      "execution_count": 21
    },
    {
      "cell_type": "code",
      "source": [
        "predictor(df['text'][210],df['labels'][210])"
      ],
      "metadata": {
        "trusted": true,
        "execution": {
          "iopub.status.busy": "2024-12-22T04:48:16.368404Z",
          "iopub.execute_input": "2024-12-22T04:48:16.368814Z",
          "iopub.status.idle": "2024-12-22T04:48:17.048568Z",
          "shell.execute_reply.started": "2024-12-22T04:48:16.368774Z",
          "shell.execute_reply": "2024-12-22T04:48:17.047524Z"
        },
        "colab": {
          "base_uri": "https://localhost:8080/"
        },
        "id": "_34OhrCsW4wC",
        "outputId": "c01c85fe-9e6e-4fce-c74b-fc1d814eac9c"
      },
      "outputs": [
        {
          "output_type": "stream",
          "name": "stdout",
          "text": [
            "Input Ticket: Dear Customer Support,\n",
            "\n",
            "I hope this message finds you well. I am writing to report a high-priority incident involving unstable connectivity issues with our Cisco Router ISR4331, which is currently impacting the performance of our enterprise network. Our entire network operations depend heavily on this router, and any disruptions can lead to significant operational setbacks.\n",
            "\n",
            "The connectivity issues started occurring approximately 48 hours ago and have progressively worsened. Our IT team has conducted preliminary troubleshooting, which includes checking the physical connections, updating the firmware, and resetting the device multiple times; however, these actions have not resolved the issue. The router still exhibits sporadic connectivity drop-offs, causing disruptions in our daily workflows and negatively affecting the user experience within our enterprise.\n",
            "\n",
            "We are requesting immediate technical assistance from your team to diagnose and resolve this matter as quickly as possible. Given that this issue is causing serious disruptions in our business operations, we would appreciate a swift response and an onsite assessment if required.\n",
            "\n",
            "Please let us know the next steps to take and if any additional information is needed from our end for a quicker resolution. You can reach me at <tel_num> or email me directly for any further queries. Our goal is to get this critical issue resolved at the earliest to mitigate any potential downsides resulting from prolonged network downtimes.\n",
            "\n",
            "Thank you for attending to this matter with urgency. I look forward to your prompt response.\n",
            "\n",
            "Best regards,\n",
            "\n",
            "<name>\n",
            "IT Manager\n",
            "<acc_num>\n",
            "\n",
            "\n",
            "Original Label:  9 ,Original Label Decoded:  Technical Support\n",
            "Predicted Label: 9 ,Predicted label Decoded: Technical Support\n"
          ]
        }
      ],
      "execution_count": 22
    },
    {
      "cell_type": "code",
      "source": [
        "predictor(df['text'][50],df['labels'][50])"
      ],
      "metadata": {
        "trusted": true,
        "execution": {
          "iopub.status.busy": "2024-12-22T04:48:17.050119Z",
          "iopub.execute_input": "2024-12-22T04:48:17.050543Z",
          "iopub.status.idle": "2024-12-22T04:48:17.266952Z",
          "shell.execute_reply.started": "2024-12-22T04:48:17.050497Z",
          "shell.execute_reply": "2024-12-22T04:48:17.265852Z"
        },
        "colab": {
          "base_uri": "https://localhost:8080/"
        },
        "id": "q9OOyUysW4wD",
        "outputId": "d3d13b9c-373a-4e2e-a284-4b0be562534b"
      },
      "outputs": [
        {
          "output_type": "stream",
          "name": "stdout",
          "text": [
            "Input Ticket: Hi, I've noticed performance issues with my Dell XPS 13 9310 after the latest update. Please assist.\n",
            "\n",
            "\n",
            "Original Label:  9 ,Original Label Decoded:  Technical Support\n",
            "Predicted Label: 9 ,Predicted label Decoded: Technical Support\n"
          ]
        }
      ],
      "execution_count": 23
    },
    {
      "cell_type": "code",
      "source": [
        "predictor(df['text'][175],df['labels'][175])"
      ],
      "metadata": {
        "trusted": true,
        "execution": {
          "iopub.status.busy": "2024-12-22T04:48:17.267900Z",
          "iopub.execute_input": "2024-12-22T04:48:17.268171Z",
          "iopub.status.idle": "2024-12-22T04:48:17.700258Z",
          "shell.execute_reply.started": "2024-12-22T04:48:17.268148Z",
          "shell.execute_reply": "2024-12-22T04:48:17.699249Z"
        },
        "colab": {
          "base_uri": "https://localhost:8080/"
        },
        "id": "Ab4ykGCgW4wE",
        "outputId": "7715e279-fdf0-4389-86ea-8c9d77d5ad4c"
      },
      "outputs": [
        {
          "output_type": "stream",
          "name": "stdout",
          "text": [
            "Input Ticket: Dear Customer Support Team,\n",
            "\n",
            "I am writing to express my concerns regarding the Epson EcoTank ET-4760 printer that I purchased from your Tech Online Store. Despite being quite enthusiastic about its features, I have encountered frequent paper jams during printing operations, which significantly disrupt my workflow. This issue is hindering my productivity, and I would greatly appreciate your guidance on how to resolve it.\n",
            "\n",
            "Could you please provide troubleshooting advice or recommend any steps I should take to remedy this situation? Additionally, if this is a known issue, kindly let me know if there is any update or technical support available to address it.\n",
            "\n",
            "I am relying on your expertise to help find a suitable solution at your earliest convenience. Please feel free to contact me with any further instructions or if additional information is required for diagnostics on my end.\n",
            "\n",
            "Thank you for your attention and assistance.\n",
            "\n",
            "Best regards,\n",
            "\n",
            "<name>\n",
            "\n",
            "\n",
            "Original Label:  5 ,Original Label Decoded:  Product Support\n",
            "Predicted Label: 5 ,Predicted label Decoded: Product Support\n"
          ]
        }
      ],
      "execution_count": 24
    },
    {
      "cell_type": "code",
      "source": [
        "predictor(df['text'][15],df['labels'][15])"
      ],
      "metadata": {
        "trusted": true,
        "execution": {
          "iopub.status.busy": "2024-12-22T04:48:17.701108Z",
          "iopub.execute_input": "2024-12-22T04:48:17.701479Z",
          "iopub.status.idle": "2024-12-22T04:48:29.074959Z",
          "shell.execute_reply.started": "2024-12-22T04:48:17.701440Z",
          "shell.execute_reply": "2024-12-22T04:48:29.074149Z"
        },
        "colab": {
          "base_uri": "https://localhost:8080/"
        },
        "id": "PF4532zxW4wF",
        "outputId": "f83f8950-d549-49d2-9715-bf6f94dd4585"
      },
      "outputs": [
        {
          "output_type": "stream",
          "name": "stdout",
          "text": [
            "Input Ticket: Hello Customer Support,\n",
            "\n",
            "I am experiencing a problem with my HP DeskJet 3755 printer. It fails to connect to the wireless network despite adhering to the setup guidelines. Could you provide troubleshooting support to resolve this issue?\n",
            "\n",
            "Thank you, \n",
            "<name>\n",
            "\n",
            "\n",
            "Original Label:  1 ,Original Label Decoded:  Customer Service\n",
            "Predicted Label: 1 ,Predicted label Decoded: Customer Service\n"
          ]
        }
      ],
      "execution_count": 25
    }
  ]
}